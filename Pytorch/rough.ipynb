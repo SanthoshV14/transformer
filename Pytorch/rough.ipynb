{
 "cells": [
  {
   "cell_type": "code",
   "execution_count": 1,
   "metadata": {},
   "outputs": [],
   "source": [
    "import torch\n",
    "import numpy as np\n",
    "import torch.nn as nn\n",
    "import matplotlib.pyplot as plt"
   ]
  },
  {
   "cell_type": "code",
   "execution_count": 2,
   "metadata": {},
   "outputs": [
    {
     "name": "stdout",
     "output_type": "stream",
     "text": [
      "64 torch.Size([10, 512]) torch.Size([512, 512]) torch.Size([512, 512]) torch.Size([512, 512])\n"
     ]
    }
   ],
   "source": [
    "seq_len = 10\n",
    "d_model = 512\n",
    "h = 8\n",
    "d_k = d_model//h\n",
    "\n",
    "X = torch.randn((seq_len, d_model))\n",
    "Q = torch.randn((d_model, d_model))\n",
    "K = torch.randn((d_model, d_model))\n",
    "V = torch.randn((d_model, d_model))\n",
    "print(d_k, X.shape, Q.shape, K.shape, V.shape)"
   ]
  },
  {
   "cell_type": "code",
   "execution_count": 3,
   "metadata": {},
   "outputs": [
    {
     "name": "stdout",
     "output_type": "stream",
     "text": [
      "torch.Size([10, 512]) torch.Size([10, 512]) torch.Size([10, 512])\n",
      "torch.Size([10, 512])\n"
     ]
    }
   ],
   "source": [
    "# Self Attention\n",
    "\n",
    "q = torch.matmul(X, Q)\n",
    "k = torch.matmul(X, K)\n",
    "v = torch.matmul(X, V)\n",
    "print(q.shape, k.shape, v.shape)\n",
    "\n",
    "attention = torch.matmul(q, k.T)/np.sqrt(d_model)\n",
    "attention_softmax = nn.functional.softmax(attention, -1)\n",
    "attention = torch.matmul(attention_softmax, v)\n",
    "print(attention.shape)"
   ]
  },
  {
   "cell_type": "code",
   "execution_count": 4,
   "metadata": {},
   "outputs": [
    {
     "name": "stdout",
     "output_type": "stream",
     "text": [
      "torch.Size([8, 10, 64]) torch.Size([8, 10, 64]) torch.Size([8, 10, 64])\n",
      "torch.Size([10, 512])\n"
     ]
    }
   ],
   "source": [
    "# Multi-Headed Attendtion\n",
    "\n",
    "W_o = torch.randn((d_model, d_model))\n",
    "q = torch.matmul(X, Q)\n",
    "k = torch.matmul(X, K)\n",
    "v = torch.matmul(X, V)\n",
    "\n",
    "q = torch.reshape(q, (seq_len, h, d_k)).transpose(0, 1)\n",
    "k = torch.reshape(k, (seq_len, h, d_k)).transpose(0, 1)\n",
    "v = torch.reshape(v, (seq_len, h, d_k)).transpose(0, 1)\n",
    "print(q.shape, k.shape, v.shape)\n",
    "\n",
    "k = torch.transpose(k, -2, -1)\n",
    "multihead_attention = torch.matmul(q, k)/np.sqrt(d_k)\n",
    "multihead_attention_softmax = nn.functional.softmax(multihead_attention, -1)\n",
    "multihead_attention = torch.matmul(multihead_attention, v)\n",
    "multihead_attention = multihead_attention.transpose(0, 1).reshape((seq_len, d_model))\n",
    "multihead_attention = torch.matmul(multihead_attention, W_o)\n",
    "print(multihead_attention.shape)"
   ]
  },
  {
   "cell_type": "code",
   "execution_count": 5,
   "metadata": {},
   "outputs": [
    {
     "name": "stdout",
     "output_type": "stream",
     "text": [
      "tensor([[[ 0.2192,  1.2478,  2.1913,  ...,  0.5312, -0.2162,  2.0037],\n",
      "         [-0.6920, -0.3131, -0.9358,  ..., -0.3090,  0.7039,  1.2872],\n",
      "         [ 1.3077, -0.9405,  0.9326,  ...,  0.5825,  0.1900,  1.7588],\n",
      "         ...,\n",
      "         [ 1.5464,  2.0699,  0.2880,  ...,  0.4341, -2.4510,  1.1655],\n",
      "         [ 1.1835,  0.1523,  0.9788,  ...,  1.0372, -0.0145,  1.1234],\n",
      "         [ 1.4313, -2.0561,  0.0652,  ...,  0.6187,  0.7517,  0.4005]]]) torch.Size([1, 10, 512])\n"
     ]
    }
   ],
   "source": [
    "class PositionalEncoding(nn.Module):\n",
    "    def __init__(self, seq_len, d_model):\n",
    "        super().__init__()\n",
    "        self.seq_len = seq_len\n",
    "        self.d_model = d_model\n",
    "        pos = torch.arange(0, seq_len).reshape((seq_len, 1))\n",
    "        index = torch.arange(0, d_model).reshape((1, d_model))\n",
    "        denominator = torch.pow(10000, (2*index)/d_model)\n",
    "        pe = torch.zeros((seq_len, d_model))\n",
    "        pe[:,0::2] = torch.sin(pos/denominator[:, 0::2])\n",
    "        pe[:,1::2] = torch.cos(pos/denominator[:, 1::2])\n",
    "        pe = pe.unsqueeze(0)\n",
    "        self.register_buffer('pe', pe)\n",
    "\n",
    "    def forward(self, x):\n",
    "        return x + self.pe.requires_grad_(False)\n",
    "\n",
    "\n",
    "pe = PositionalEncoding(seq_len, d_model)\n",
    "x = X.unsqueeze(0)\n",
    "x = pe(x)\n",
    "print(x, x.shape)"
   ]
  },
  {
   "cell_type": "code",
   "execution_count": 6,
   "metadata": {},
   "outputs": [
    {
     "name": "stdout",
     "output_type": "stream",
     "text": [
      "torch.Size([1, 10, 512]) torch.Size([1, 10])\n"
     ]
    }
   ],
   "source": [
    "import math\n",
    "\n",
    "class MultiHeadAttentionBlock(nn.Module):\n",
    "    def __init__(self, h, d_k):\n",
    "        super().__init__()\n",
    "        self.h = h\n",
    "        self.d_k = d_k\n",
    "        self.d_model = self.h * self.d_k\n",
    "        self.w_q = nn.Linear(d_model, d_model)\n",
    "        self.w_k = nn.Linear(d_model, d_model)\n",
    "        self.w_v = nn.Linear(d_model, d_model)\n",
    "        self.w_o = nn.Linear(d_model, d_model)\n",
    "\n",
    "    @staticmethod\n",
    "    def attention(q, k, v, mask):\n",
    "        k = k.transpose(-2, -1)\n",
    "        attention_scores = torch.matmul(q, k)/math.sqrt(q.shape[-1])\n",
    "        if mask is not None:\n",
    "            attention_scores = torch.masked_fill(attention_scores, mask, -1e-9)\n",
    "        attention_scores = nn.functional.softmax(attention_scores, -1)\n",
    "        attention = torch.matmul(attention_scores, v)\n",
    "        return attention\n",
    "\n",
    "    def forward(self, q, k, v, mask=None):\n",
    "        q = self.w_q(q)\n",
    "        k = self.w_k(k)\n",
    "        v = self.w_v(v)\n",
    "\n",
    "        q = torch.reshape(q, (q.shape[0], q.shape[1], self.h, self.d_k)).transpose(1, 2)\n",
    "        k = torch.reshape(k, (k.shape[0], k.shape[1], self.h, self.d_k)).transpose(1, 2)\n",
    "        v = torch.reshape(v, (v.shape[0], v.shape[1], self.h, self.d_k)).transpose(1, 2)\n",
    "        x = MultiHeadAttentionBlock.attention(q, k, v, mask)\n",
    "\n",
    "        x = x.transpose(1, 2)\n",
    "        x = x.reshape((x.shape[0], x.shape[1], self.d_model))\n",
    "\n",
    "        return self.w_o(x)\n",
    "    \n",
    "src_mask = torch.mean(x, -1) == 0\n",
    "mha = MultiHeadAttentionBlock(h, d_k)\n",
    "x = mha(x, x, x, src_mask)\n",
    "print(x.shape, src_mask.shape)\n",
    "        "
   ]
  },
  {
   "cell_type": "code",
   "execution_count": 7,
   "metadata": {},
   "outputs": [
    {
     "name": "stdout",
     "output_type": "stream",
     "text": [
      "torch.Size([1, 10, 512])\n"
     ]
    }
   ],
   "source": [
    "class FeedForwardLayer(nn.Module):\n",
    "    def __init__(self, d_model:int, d_hidden:int):\n",
    "        super().__init__()\n",
    "        self.ff1 = nn.Linear(d_model, d_hidden)\n",
    "        self.ff2 = nn.Linear(d_hidden, d_model)\n",
    "        self.relu = nn.ReLU()\n",
    "\n",
    "    def forward(self, x):\n",
    "        x = self.relu(self.ff1(x))\n",
    "        return self.ff2(x)\n",
    "    \n",
    "ffl = FeedForwardLayer(d_model, 2048)\n",
    "x = ffl(x)\n",
    "print(x.shape)"
   ]
  },
  {
   "cell_type": "code",
   "execution_count": 8,
   "metadata": {},
   "outputs": [
    {
     "name": "stdout",
     "output_type": "stream",
     "text": [
      "torch.Size([1, 10, 512])\n",
      "torch.Size([1, 10, 512])\n"
     ]
    }
   ],
   "source": [
    "class ResidualBlock(nn.Module):\n",
    "    def __init__(self, normalized_shape):\n",
    "        super().__init__()\n",
    "        self.layernorm = nn.LayerNorm(normalized_shape)\n",
    "\n",
    "    def forward(self, x, sublayer):\n",
    "        x = self.layernorm(x + sublayer(x))\n",
    "        return x\n",
    "\n",
    "res = ResidualBlock(x.shape)\n",
    "x = res(x, lambda x: mha(x, x, x, src_mask))\n",
    "print(x.shape)\n",
    "x = res(x, ffl)\n",
    "print(x.shape)"
   ]
  },
  {
   "cell_type": "code",
   "execution_count": 9,
   "metadata": {},
   "outputs": [
    {
     "name": "stdout",
     "output_type": "stream",
     "text": [
      "torch.Size([1, 10, 512])\n"
     ]
    }
   ],
   "source": [
    "class EncoderBlock(nn.Module):\n",
    "    def __init__(self, normalized_shape, mha: MultiHeadAttentionBlock, ffl: FeedForwardLayer):\n",
    "        super().__init__()\n",
    "        self.mha = mha\n",
    "        self.ffl = ffl\n",
    "        self.res = nn.ModuleList([ResidualBlock(normalized_shape) for _ in range(2)])\n",
    "        \n",
    "    def forward(self, x, src_mask):\n",
    "        x = self.res[0](x, lambda x: self.mha(x, x, x, src_mask))\n",
    "        x = self.res[1](x, self.ffl)\n",
    "\n",
    "        return x\n",
    "\n",
    "eb = EncoderBlock(x.shape, mha, ffl)\n",
    "x = eb(x, src_mask)\n",
    "print(x.shape)"
   ]
  },
  {
   "cell_type": "code",
   "execution_count": 10,
   "metadata": {},
   "outputs": [
    {
     "name": "stdout",
     "output_type": "stream",
     "text": [
      "torch.Size([1, 10, 512])\n"
     ]
    }
   ],
   "source": [
    "class Encoder(nn.Module):\n",
    "    def __init__(self, encoder_blocks: nn.ModuleList):\n",
    "        super().__init__()\n",
    "        self.encoder_blocks = encoder_blocks\n",
    "\n",
    "    def forward(self, x, src_mask):\n",
    "        for encoder_block in self.encoder_blocks:\n",
    "            x = encoder_block(x, src_mask)\n",
    "        \n",
    "        return x\n",
    "\n",
    "encoder_blocks = []\n",
    "d_hidden = 2048\n",
    "for _ in range(5):\n",
    "    mha = MultiHeadAttentionBlock(h, d_k)\n",
    "    ffl = FeedForwardLayer(d_model, d_hidden)\n",
    "    encoder_block = EncoderBlock(x.shape, mha, ffl)\n",
    "    encoder_blocks.append(encoder_block)\n",
    "    \n",
    "encoder_blocks = nn.ModuleList(encoder_blocks)\n",
    "encoder = Encoder(encoder_blocks)\n",
    "x = encoder(x, src_mask)\n",
    "print(x.shape)"
   ]
  },
  {
   "cell_type": "code",
   "execution_count": 11,
   "metadata": {},
   "outputs": [
    {
     "name": "stdout",
     "output_type": "stream",
     "text": [
      "torch.Size([1, 10, 512])\n"
     ]
    }
   ],
   "source": [
    "class DecoderBlock(nn.Module):\n",
    "    def __init__(self, normalized_shape, mha: MultiHeadAttentionBlock, ca: MultiHeadAttentionBlock, ffl: FeedForwardLayer):\n",
    "        super().__init__()\n",
    "        self.mha = mha\n",
    "        self.ca = ca\n",
    "        self.ffl = ffl\n",
    "        self.res = nn.ModuleList([ResidualBlock(normalized_shape) for _ in range(3)])\n",
    "\n",
    "    def forward(self, x, y, tgt_mask):\n",
    "        x = self.res[0](x, lambda x: self.mha(x, x, x, tgt_mask))\n",
    "        x = self.res[1](x, lambda x: self.ca(y, y, x))\n",
    "        x = self.res[2](x, self.ffl)\n",
    "        \n",
    "        return x\n",
    "    \n",
    "tgt_mask = torch.ones((seq_len, seq_len)).triu(diagonal=1) == 1\n",
    "tgt_mask = src_mask * tgt_mask\n",
    "eb = EncoderBlock(x.shape, mha, ffl)\n",
    "y = eb(x, src_mask)\n",
    "db = DecoderBlock(x.shape, mha, mha, ffl)\n",
    "z = db(x, y, tgt_mask)\n",
    "print(z.shape)"
   ]
  },
  {
   "cell_type": "code",
   "execution_count": 12,
   "metadata": {},
   "outputs": [
    {
     "name": "stdout",
     "output_type": "stream",
     "text": [
      "torch.Size([1, 10, 512])\n",
      "torch.Size([1, 10, 512])\n"
     ]
    }
   ],
   "source": [
    "class Decoder(nn.Module):\n",
    "    def __init__(self, decoder_blocks: nn.ModuleList):\n",
    "        super().__init__()\n",
    "        self.decoder_blocks = decoder_blocks\n",
    "\n",
    "    def forward(self, x, y, tgt_mask):\n",
    "        for decoder_block in self.decoder_blocks:\n",
    "            x = decoder_block(x, y, tgt_mask)\n",
    "        \n",
    "        return x\n",
    "\n",
    "\n",
    "encoder_blocks = []\n",
    "d_hidden = 2048\n",
    "for _ in range(5):\n",
    "    mha = MultiHeadAttentionBlock(h, d_k)\n",
    "    ffl = FeedForwardLayer(d_model, d_hidden)\n",
    "    encoder_block = EncoderBlock(x.shape, mha, ffl)\n",
    "    encoder_blocks.append(encoder_block)\n",
    "    \n",
    "encoder_blocks = nn.ModuleList(encoder_blocks)\n",
    "encoder = Encoder(encoder_blocks)\n",
    "x = encoder(x, src_mask)\n",
    "print(x.shape)\n",
    "\n",
    "decoder_blocks = []\n",
    "d_hidden = 2048\n",
    "for _ in range(5):\n",
    "    mha = MultiHeadAttentionBlock(h, d_k)\n",
    "    ca = MultiHeadAttentionBlock(h, d_k)\n",
    "    ffl = FeedForwardLayer(d_model, d_hidden)\n",
    "    decoder_block = DecoderBlock(x.shape, mha, ca, ffl)\n",
    "    decoder_blocks.append(decoder_block)\n",
    "    \n",
    "decoder_blocks = nn.ModuleList(decoder_blocks)\n",
    "decoder = Decoder(decoder_blocks)\n",
    "z = decoder(x, y, tgt_mask)\n",
    "print(z.shape)"
   ]
  },
  {
   "cell_type": "code",
   "execution_count": 13,
   "metadata": {},
   "outputs": [
    {
     "name": "stdout",
     "output_type": "stream",
     "text": [
      "torch.Size([1, 10, 2048])\n"
     ]
    }
   ],
   "source": [
    "class ProjectionLayer(nn.Module):\n",
    "    def __init__(self, d_model:int, voc_size:int):\n",
    "        super().__init__()\n",
    "        self.ff1 = nn.Linear(d_model, d_model)\n",
    "        self.ff2 = nn.Linear(d_model, voc_size)\n",
    "\n",
    "    def forward(self, x):\n",
    "        return torch.log_softmax(self.ff2(self.ff1(x)), -1)\n",
    "    \n",
    "ffl = ProjectionLayer(d_model, 2048)\n",
    "op = ffl(x)\n",
    "print(op.shape)"
   ]
  },
  {
   "cell_type": "code",
   "execution_count": 14,
   "metadata": {},
   "outputs": [
    {
     "name": "stdout",
     "output_type": "stream",
     "text": [
      "torch.Size([1, 10, 1000])\n"
     ]
    }
   ],
   "source": [
    "class Transformer(nn.Module):\n",
    "    def __init__(self, encoder: Encoder, decoder:Decoder, projection_layer: ProjectionLayer, src_pos: PositionalEncoding, tgt_pos: PositionalEncoding):\n",
    "        super().__init__()\n",
    "        self.src_pos = src_pos\n",
    "        self.tgt_pos = tgt_pos\n",
    "        self.encoder = encoder\n",
    "        self.decoder = decoder\n",
    "        self.projection_layer = projection_layer\n",
    "\n",
    "    def encode(self, x, src_mask):\n",
    "        x = self.src_pos(x)\n",
    "        return self.encoder(x, src_mask)\n",
    "    \n",
    "    def decode(self, x, y, tgt_mask):\n",
    "        y = self.tgt_pos(y)\n",
    "        return self.decoder(x, y, tgt_mask)\n",
    "    \n",
    "    def project(self, x):\n",
    "        return self.projection_layer(x)\n",
    "    \n",
    "    def forward(self, x, src_mask, tgt_mask):\n",
    "        y = self.encode(x, src_mask)\n",
    "        z = self.decode(x, y, tgt_mask)\n",
    "        z = nn.functional.softmax(self.project(z), -1)\n",
    "        return z\n",
    "\n",
    "def build_transformer():\n",
    "    n = 6\n",
    "    voc_size = 1000\n",
    "    encoder_blocks = []\n",
    "    for _ in range(n):\n",
    "        mha = MultiHeadAttentionBlock(h, d_k)\n",
    "        ffl = FeedForwardLayer(d_model, d_hidden)\n",
    "        encoder_block = EncoderBlock((seq_len, d_model), mha, ffl)\n",
    "        encoder_blocks.append(encoder_block)\n",
    "\n",
    "    encoder_blocks = nn.ModuleList(encoder_blocks)\n",
    "    encoder = Encoder(encoder_blocks)\n",
    "\n",
    "    decoder_blocks = []\n",
    "    for _ in range(n):\n",
    "        mha = MultiHeadAttentionBlock(h, d_k)\n",
    "        ca = MultiHeadAttentionBlock(h, d_k)\n",
    "        ffl = FeedForwardLayer(d_model, d_hidden)\n",
    "        decoder_block = DecoderBlock((seq_len, d_model), mha, ca, ffl)\n",
    "        decoder_blocks.append(decoder_block)\n",
    "\n",
    "    decoder_blocks = nn.ModuleList(decoder_blocks)\n",
    "    decoder = Decoder(decoder_blocks)\n",
    "    \n",
    "    src_pos = PositionalEncoding(seq_len, d_model)\n",
    "    tgt_pos = PositionalEncoding(seq_len, d_model)\n",
    "    projection_layer = ProjectionLayer(d_model, voc_size)\n",
    "    transfomer = Transformer(encoder, decoder, projection_layer, src_pos, tgt_pos)\n",
    "    return transfomer\n",
    "\n",
    "transformer = build_transformer()\n",
    "predicted_token = transformer(x, src_mask, tgt_mask)\n",
    "print(predicted_token.shape)"
   ]
  },
  {
   "cell_type": "code",
   "execution_count": 15,
   "metadata": {},
   "outputs": [
    {
     "name": "stdout",
     "output_type": "stream",
     "text": [
      "[['how', 'hi', 'are', 'you'], ['world', 'hello', 'am', 'santhosh', 'hi', 'i']] torch.Size([2, 10]) torch.Size([2, 10, 512])\n"
     ]
    }
   ],
   "source": [
    "class Tokenizer(nn.Module):\n",
    "    def __init__(self, seq_len, padd_token):\n",
    "        super().__init__()\n",
    "        self.padd_token = padd_token\n",
    "        self.seq_len = seq_len\n",
    "        self.embedding = {\n",
    "            padd_token: 0\n",
    "        }\n",
    "        self.counter = 0\n",
    "\n",
    "    def tokenize(self, sentences):\n",
    "        tokens = []\n",
    "        for sentence in sentences:\n",
    "            sentence = list(set(sentence.lower().split()))\n",
    "            tokens.append(sentence)\n",
    "\n",
    "        return tokens\n",
    "    \n",
    "    def unique_ids(self, tokens):\n",
    "        embeddings = []\n",
    "        for token_arr in tokens:\n",
    "            if len(token_arr) < self.seq_len:\n",
    "                token_arr = token_arr + [self.padd_token]*(self.seq_len-len(token_arr))\n",
    "            else:\n",
    "                token_arr = token_arr[:self.seq_len]\n",
    "\n",
    "            for i, token in enumerate(token_arr):\n",
    "                if token not in self.embedding:\n",
    "                    self.counter = self.counter+1\n",
    "                    self.embedding[token] = self.counter\n",
    "                token_arr[i] = self.embedding[token]\n",
    "            embeddings.append(token_arr)\n",
    "        \n",
    "        return torch.tensor(embeddings, dtype=torch.int)\n",
    "    \n",
    "    def token_to_id(self, token: str):\n",
    "        return self.embedding[token]\n",
    "    \n",
    "    def id_to_token(self, id: int):\n",
    "        id_index = list(self.embedding.values()).index(id)\n",
    "        token = list(self.embedding.keys())[id_index]\n",
    "        return token\n",
    "\n",
    "padd_token = '<PAD>'\n",
    "vocab_size = 1000\n",
    "\n",
    "tokenizer = Tokenizer(seq_len, padd_token)\n",
    "tokens = tokenizer.tokenize(['hi how are you', 'hello world hi I am santhosh'])\n",
    "ids = tokenizer.unique_ids(tokens)\n",
    "embedding = nn.Embedding(vocab_size, d_model)\n",
    "embeddings = embedding(ids)\n",
    "print(tokens, ids.shape, embeddings.shape)\n",
    " "
   ]
  },
  {
   "cell_type": "code",
   "execution_count": 16,
   "metadata": {},
   "outputs": [
    {
     "name": "stdout",
     "output_type": "stream",
     "text": [
      "torch.Size([2, 10, 1000]) tensor([[145, 270, 385, 385, 270, 270, 270, 270, 270, 270],\n",
      "        [109, 645, 197, 385, 385, 210, 385, 385, 385, 385]])\n"
     ]
    }
   ],
   "source": [
    "src_mask = (ids != 0).unsqueeze(1).unsqueeze(-1)\n",
    "tgt_mask = torch.ones((seq_len, seq_len)).tril(diagonal=0)\n",
    "tgt_mask = (src_mask * tgt_mask) == 0\n",
    "res = transformer(embeddings, src_mask, tgt_mask)\n",
    "print(res.shape, torch.argmax(res, dim=-1))"
   ]
  }
 ],
 "metadata": {
  "kernelspec": {
   "display_name": "torch_env",
   "language": "python",
   "name": "python3"
  },
  "language_info": {
   "codemirror_mode": {
    "name": "ipython",
    "version": 3
   },
   "file_extension": ".py",
   "mimetype": "text/x-python",
   "name": "python",
   "nbconvert_exporter": "python",
   "pygments_lexer": "ipython3",
   "version": "3.10.14"
  }
 },
 "nbformat": 4,
 "nbformat_minor": 2
}
